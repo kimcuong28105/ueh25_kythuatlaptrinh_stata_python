{
  "nbformat": 4,
  "nbformat_minor": 0,
  "metadata": {
    "colab": {
      "provenance": [],
      "authorship_tag": "ABX9TyP74OntV9fFFJXOPEiLqvxe",
      "include_colab_link": true
    },
    "kernelspec": {
      "name": "python3",
      "display_name": "Python 3"
    },
    "language_info": {
      "name": "python"
    }
  },
  "cells": [
    {
      "cell_type": "markdown",
      "metadata": {
        "id": "view-in-github",
        "colab_type": "text"
      },
      "source": [
        "<a href=\"https://colab.research.google.com/github/kimcuong28105/ueh25_kythuatlaptrinh_stata_python_lop_sang_T3/blob/main/Bai_tap_buoi_3.ipynb\" target=\"_parent\"><img src=\"https://colab.research.google.com/assets/colab-badge.svg\" alt=\"Open In Colab\"/></a>"
      ]
    },
    {
      "cell_type": "markdown",
      "source": [
        "# BÀI TẬP THỰC HÀNH"
      ],
      "metadata": {
        "id": "OXqqD4rb8Ojy"
      }
    },
    {
      "cell_type": "markdown",
      "source": [
        "## Bài 1. In nhãn.\n",
        "### Viết chương trình in ra nhãn gồm nhiều dòng như sau:\n"
      ],
      "metadata": {
        "id": "_lAzINez8TYQ"
      }
    },
    {
      "cell_type": "code",
      "source": [
        "print(\"************************** \")\n",
        "print(\"* Truong: Dai Hoc UEH    * \")\n",
        "print(\"* Khoa: CNTT             * \")\n",
        "print(\"* Ho ten:                *\")\n",
        "print(\"************************** \")"
      ],
      "metadata": {
        "colab": {
          "base_uri": "https://localhost:8080/"
        },
        "id": "M9w7rKMT8WRq",
        "outputId": "27e1f7ae-ddf4-42bc-98bf-efa21eff0eed"
      },
      "execution_count": 9,
      "outputs": [
        {
          "output_type": "stream",
          "name": "stdout",
          "text": [
            "************************** \n",
            "* Truong: Dai Hoc UEH    * \n",
            "* Khoa: CNTT             * \n",
            "* Ho ten:                *\n",
            "************************** \n"
          ]
        }
      ]
    },
    {
      "cell_type": "markdown",
      "source": [
        "## Bài 2. Tính diện tích và chu hình tròn HinhTron.\n",
        "### Nhập vào bán kính R của một hình tròn. Hãy tính diện tích và chu vi hình tròn đó theo công thức:𝑆 = 3.14𝑥𝑅2, 𝑃 = 2𝑥3.14𝑥𝑅. In kết quả với 1 số lẻ thập phân."
      ],
      "metadata": {
        "id": "aZNHNc758Zhs"
      }
    },
    {
      "cell_type": "code",
      "source": [
        "R = float(input(\"Nhap ban kinh R: \"))\n",
        "\n",
        "S = 3.14 * (R**2)\n",
        "P = 2 * 3.14 * R\n",
        "\n",
        "print(f'Dien tich S = {round(S, 2)}')\n",
        "print(f'Chu vi P = {round(P,2)}')"
      ],
      "metadata": {
        "colab": {
          "base_uri": "https://localhost:8080/"
        },
        "id": "oZsIMDCy8dB_",
        "outputId": "6320a868-150c-484c-dd62-49f0d226444e"
      },
      "execution_count": 10,
      "outputs": [
        {
          "output_type": "stream",
          "name": "stdout",
          "text": [
            "Nhap ban kinh R: 5\n",
            "Dien tich S = 78.5\n",
            "Chu vi P = 31.4\n"
          ]
        }
      ]
    },
    {
      "cell_type": "markdown",
      "source": [
        "## Bài 3. Đổi sang giây\n",
        "### Một thiết bị hoạt động được h giờ, m phút và s giây. Hãy viết chương trình chuyển thời gian đó sang tổng số giây."
      ],
      "metadata": {
        "id": "H45OCCsC8nrm"
      }
    },
    {
      "cell_type": "code",
      "source": [
        "h = input(\"Nhap so gio:\")\n",
        "m = input(\"Nhap so phut:\")\n",
        "s = input(\"Nhap so giay:\")\n",
        "\n",
        "h = int(h)\n",
        "m = int(m)\n",
        "s = int(s)\n",
        "\n",
        "tong = h*3600 + m*60 + s\n",
        "print(f'Tong so giay cua {h}:{m}:{s} la {tong} giay')"
      ],
      "metadata": {
        "colab": {
          "base_uri": "https://localhost:8080/"
        },
        "id": "mypvKv4e9Kbc",
        "outputId": "94181124-2d6f-4f27-81c1-6b10404f4485"
      },
      "execution_count": 13,
      "outputs": [
        {
          "output_type": "stream",
          "name": "stdout",
          "text": [
            "Nhap so gio:1\n",
            "Nhap so phut:20\n",
            "Nhap so giay:10\n",
            "Tong so giay cua 1:20:10 la 4810 giay\n"
          ]
        }
      ]
    },
    {
      "cell_type": "markdown",
      "source": [
        "## Bài 4. Đổi sang giờ phút giây\n",
        "### Một thiết bị hoạt động được t giây. Hãy viết chương trình chuyển số giây đó dưới dạng số giờ, số phút và số giây."
      ],
      "metadata": {
        "id": "mwc-tEwF94_D"
      }
    },
    {
      "cell_type": "code",
      "source": [
        "s = int(input(\"Nhap vao tong so giay:\"))\n",
        "\n",
        "h = s // 3600\n",
        "s = s % 3600\n",
        "\n",
        "m = s // 60\n",
        "s = s % 60\n",
        "\n",
        "print(f'{s} giay co dang {h}:{m}:{s}')\n",
        "#"
      ],
      "metadata": {
        "colab": {
          "base_uri": "https://localhost:8080/"
        },
        "id": "GMQbaFSe-Bsj",
        "outputId": "7c909d07-38de-47bb-8f20-8f7e14fb0e11"
      },
      "execution_count": 15,
      "outputs": [
        {
          "output_type": "stream",
          "name": "stdout",
          "text": [
            "Nhap vao tong so giay:4810\n",
            "10 giay co dang 1:20:10\n"
          ]
        }
      ]
    },
    {
      "cell_type": "markdown",
      "source": [
        "## Bài 5. Tính diện tích tam giác"
      ],
      "metadata": {
        "id": "l7GuDFF6_MrU"
      }
    },
    {
      "cell_type": "code",
      "source": [
        "a = float(input(\"Nhap canh a: \"))\n",
        "b = float(input(\"Nhap canh b: \"))\n",
        "c = float(input(\"Nhap canh c: \"))\n",
        "\n",
        "p = (a + b + c) / 2\n",
        "s = (p * (p - a) * (p - b) * (p - c)) ** 0.5\n",
        "\n",
        "print(f\"Dien tich tam giac la {s:.2f}\")\n"
      ],
      "metadata": {
        "colab": {
          "base_uri": "https://localhost:8080/"
        },
        "id": "tk2vYrNn_L--",
        "outputId": "914547bb-f5c5-43f8-9af5-7b223c57f6d9"
      },
      "execution_count": 21,
      "outputs": [
        {
          "output_type": "stream",
          "name": "stdout",
          "text": [
            "Nhap canh a: 2\n",
            "Nhap canh b: 4\n",
            "Nhap canh c: 3\n",
            "Dien tich tam giac la 2.90\n"
          ]
        }
      ]
    },
    {
      "cell_type": "markdown",
      "source": [
        "## Bài 6. Hàm Mũ"
      ],
      "metadata": {
        "id": "odCmWmomA9K5"
      }
    },
    {
      "cell_type": "code",
      "source": [
        "a = int(input(\"Nhap so thuc a: \"))\n",
        "n = int(input(\"Nhap so mu n: \"))\n",
        "s = a**n\n",
        "print(f'Ket qua {a}^{n} = {s}')\n"
      ],
      "metadata": {
        "colab": {
          "base_uri": "https://localhost:8080/"
        },
        "id": "Px0U4Kq1BAsB",
        "outputId": "a778d511-5086-4ce2-ed8b-7ae943bbbd93"
      },
      "execution_count": 26,
      "outputs": [
        {
          "output_type": "stream",
          "name": "stdout",
          "text": [
            "Nhap so thuc a: 2\n",
            "Nhap so mu n: 4\n",
            "Ket qua 2^4 = 16\n"
          ]
        }
      ]
    },
    {
      "cell_type": "markdown",
      "source": [
        "## Bài 7. Đảo số"
      ],
      "metadata": {
        "id": "qoSeo6FRB800"
      }
    },
    {
      "cell_type": "code",
      "source": [
        "x = int(input(\"Nhap so nguyen co 4 chu so: \"))\n",
        "x_str = str(x)\n",
        "y_str = x_str[::-1]\n",
        "y = int(y_str)\n",
        "\n",
        "print(f\"So dao cua x = {x} la y = {y}\")"
      ],
      "metadata": {
        "colab": {
          "base_uri": "https://localhost:8080/"
        },
        "id": "zk6dF7dACGnT",
        "outputId": "9c1bf831-8f12-4329-d59a-7eb9e35f6ae9"
      },
      "execution_count": 28,
      "outputs": [
        {
          "output_type": "stream",
          "name": "stdout",
          "text": [
            "Nhap so nguyen co 4 chu so: 1234\n",
            "So dao cua x = 1234 la y = 4321\n"
          ]
        }
      ]
    },
    {
      "cell_type": "markdown",
      "source": [
        "## Bài 8. Độ sang Radian"
      ],
      "metadata": {
        "id": "LUDKps2OCyoH"
      }
    },
    {
      "cell_type": "code",
      "source": [
        "import math\n",
        "\n",
        "goc = float(input(\"Nhap goc (do): \"))\n",
        "radians = goc * (math.pi / 180)\n",
        "\n",
        "print(f\"{goc} do bang {radians:.4f} radian\")"
      ],
      "metadata": {
        "colab": {
          "base_uri": "https://localhost:8080/"
        },
        "id": "D3Z4tS18Ckbv",
        "outputId": "c9b68d98-211c-43c6-d3de-705a36c28b3b"
      },
      "execution_count": 30,
      "outputs": [
        {
          "output_type": "stream",
          "name": "stdout",
          "text": [
            "Nhap goc (do): 10\n",
            "10.0 do bang 0.1745 radian\n"
          ]
        }
      ]
    },
    {
      "cell_type": "markdown",
      "source": [
        "## Bài 9. Hàm số 1"
      ],
      "metadata": {
        "id": "Mm2lq2T1DT0O"
      }
    },
    {
      "cell_type": "code",
      "source": [
        "import math\n",
        "x = float(input(\"Nhap so thuc x: \"))\n",
        "y1= 4*(x**2 + 10 * x * math.sqrt(x) + 3*x + 1)\n",
        "y2 = (math.sin(math.pi * x**2) + math.sqrt(x**2 + 1)) / (math.exp(2*x) + math.cos((math.pi/4) * x))\n",
        "\n",
        "print(f\"y1 = {y1:.2f}\")\n",
        "print(f\"y2 = {y2:.2f}\")"
      ],
      "metadata": {
        "colab": {
          "base_uri": "https://localhost:8080/"
        },
        "id": "0jM1unQ0DLRt",
        "outputId": "efdbb945-e09d-4486-d1d6-169e3884cd2a"
      },
      "execution_count": 40,
      "outputs": [
        {
          "output_type": "stream",
          "name": "stdout",
          "text": [
            "Nhap so thuc x: 2\n",
            "y1 = 157.14\n",
            "y2 = 0.04\n"
          ]
        }
      ]
    },
    {
      "cell_type": "markdown",
      "source": [
        "## Bài 10. Khoảng cách"
      ],
      "metadata": {
        "id": "n942d2DXFPpM"
      }
    },
    {
      "cell_type": "code",
      "source": [
        "import math\n",
        "\n",
        "x1 = float(input(\"Nhap toa do x1 cua diem A: \"))\n",
        "y1 = float(input(\"Nhap toa do y1 cua diem A: \"))\n",
        "x2 = float(input(\"Nhap toa do x2 cua diem B: \"))\n",
        "y2 = float(input(\"Nhap toa do y2 cua diem B: \"))\n",
        "\n",
        "distance = math.sqrt((x2 - x1)**2 + (y2 - y1)**2)\n",
        "\n",
        "print(f\"Khoang cach giua A({x1}, {y1}) va B({x2}, {y2}) la {distance:.2f}\")"
      ],
      "metadata": {
        "colab": {
          "base_uri": "https://localhost:8080/"
        },
        "id": "X7_6FalGFP7n",
        "outputId": "6da5c324-1698-40c8-c288-56755aec49d4"
      },
      "execution_count": 42,
      "outputs": [
        {
          "output_type": "stream",
          "name": "stdout",
          "text": [
            "Nhap toa do x1 cua diem A: 2\n",
            "Nhap toa do y1 cua diem A: 1\n",
            "Nhap toa do x2 cua diem B: 4\n",
            "Nhap toa do y2 cua diem B: 15\n",
            "Khoang cach giua A(2.0, 1.0) va B(4.0, 15.0) la 14.14\n"
          ]
        }
      ]
    },
    {
      "cell_type": "code",
      "source": [],
      "metadata": {
        "id": "mQAN9Q-bFVzZ"
      },
      "execution_count": null,
      "outputs": []
    },
    {
      "cell_type": "markdown",
      "source": [
        "# BÀI TẬP TRÊN LỚP"
      ],
      "metadata": {
        "id": "CBIWDT_-Fp3O"
      }
    },
    {
      "cell_type": "markdown",
      "source": [
        "## Bài 1. Tìm giá trị lớn nhất\n"
      ],
      "metadata": {
        "id": "RDwa00YZFvUX"
      }
    },
    {
      "cell_type": "markdown",
      "source": [
        "* cach 1"
      ],
      "metadata": {
        "id": "hF-G5hBKGP08"
      }
    },
    {
      "cell_type": "code",
      "source": [
        "# Input a, b, c\n",
        "a = int(input(\"Nhap a: \"))\n",
        "b = int(input(\"Nhap b: \"))\n",
        "c = int(input(\"Nhap c: \"))\n",
        "\n",
        "# max a, b, c\n",
        "def max_fn(a, b):\n",
        "    return a if a > b else b\n",
        "\n",
        "vmax = max_fn(a, b)\n",
        "vmax = max_fn(vmax, c)\n",
        "\n",
        "# output\n",
        "print(\"Max(%d, %d, %d) = %d\" % (a, b, c, vmax))\n"
      ],
      "metadata": {
        "colab": {
          "base_uri": "https://localhost:8080/"
        },
        "id": "sCTeSmt8Fu0S",
        "outputId": "968de699-c15b-483f-fb93-f7102cfbcdd3"
      },
      "execution_count": 44,
      "outputs": [
        {
          "output_type": "stream",
          "name": "stdout",
          "text": [
            "Nhap a: 2\n",
            "Nhap b: 3\n",
            "Nhap c: 4\n",
            "Max(2, 3, 4) = 4\n"
          ]
        }
      ]
    },
    {
      "cell_type": "markdown",
      "source": [
        "* cach 2\n"
      ],
      "metadata": {
        "id": "1EASPn5QHpfr"
      }
    },
    {
      "cell_type": "code",
      "source": [
        "a = int(input(\"Nhap a: \"))\n",
        "b = int(input(\"Nhap b: \"))\n",
        "c = int(input(\"Nhap c: \"))\n",
        "\n",
        "Smax = a\n",
        "if (Smax < b):\n",
        "    Smax = b\n",
        "if (Smax < c):\n",
        "    Smax = c\n",
        "print(\"Max(%d, %d, %d) = %d\" % (a, b, c, Smax))"
      ],
      "metadata": {
        "colab": {
          "base_uri": "https://localhost:8080/"
        },
        "id": "D7vLMmmGF7pi",
        "outputId": "3f4bdb8f-4ce6-4494-ed7a-dd64d713f795"
      },
      "execution_count": 48,
      "outputs": [
        {
          "output_type": "stream",
          "name": "stdout",
          "text": [
            "Nhap a: 2\n",
            "Nhap b: 5\n",
            "Nhap c: 3\n",
            "Max(2, 5, 3) = 5\n"
          ]
        }
      ]
    },
    {
      "cell_type": "code",
      "source": [],
      "metadata": {
        "id": "7P1HtaF5IDK6"
      },
      "execution_count": null,
      "outputs": []
    }
  ]
}